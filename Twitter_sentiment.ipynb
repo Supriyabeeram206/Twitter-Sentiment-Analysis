{
 "cells": [
  {
   "cell_type": "code",
   "execution_count": 2,
   "id": "d6516dfc-2190-4eed-8e3d-af23bc3e801a",
   "metadata": {},
   "outputs": [],
   "source": [
    "!mkdir -p ~/.kaggle\n",
    "!cp kaggle.json ~/.kaggle/\n",
    "!chmod 600 ~/.kaggle/kaggle.json"
   ]
  },
  {
   "cell_type": "code",
   "execution_count": 3,
   "id": "b956de97-7758-4f26-b0e3-187c3f087e31",
   "metadata": {},
   "outputs": [],
   "source": [
    "import numpy as np\n",
    "import pandas as pd\n",
    "import re\n",
    "from nltk.corpus import stopwords #natural language toolkit\n",
    "from nltk.stem.porter import PorterStemmer\n",
    "from sklearn.feature_extraction.text import TfidfVectorizer #converts textual data to numerical\n",
    "from sklearn.model_selection import train_test_split\n",
    "from sklearn.metrics import accuracy_score"
   ]
  },
  {
   "cell_type": "code",
   "execution_count": 4,
   "id": "becb0379-9123-4b06-b90c-41dda63867a3",
   "metadata": {},
   "outputs": [
    {
     "name": "stderr",
     "output_type": "stream",
     "text": [
      "[nltk_data] Error loading stopwords: <urlopen error [SSL:\n",
      "[nltk_data]     CERTIFICATE_VERIFY_FAILED] certificate verify failed:\n",
      "[nltk_data]     unable to get local issuer certificate (_ssl.c:992)>\n"
     ]
    },
    {
     "data": {
      "text/plain": [
       "False"
      ]
     },
     "execution_count": 4,
     "metadata": {},
     "output_type": "execute_result"
    }
   ],
   "source": [
    "import nltk\n",
    "nltk.download('stopwords')"
   ]
  },
  {
   "cell_type": "code",
   "execution_count": 5,
   "id": "bd3342f2-a6d8-4639-8fe5-16bfb7fe2670",
   "metadata": {},
   "outputs": [
    {
     "name": "stdout",
     "output_type": "stream",
     "text": [
      "['i', 'me', 'my', 'myself', 'we', 'our', 'ours', 'ourselves', 'you', \"you're\", \"you've\", \"you'll\", \"you'd\", 'your', 'yours', 'yourself', 'yourselves', 'he', 'him', 'his', 'himself', 'she', \"she's\", 'her', 'hers', 'herself', 'it', \"it's\", 'its', 'itself', 'they', 'them', 'their', 'theirs', 'themselves', 'what', 'which', 'who', 'whom', 'this', 'that', \"that'll\", 'these', 'those', 'am', 'is', 'are', 'was', 'were', 'be', 'been', 'being', 'have', 'has', 'had', 'having', 'do', 'does', 'did', 'doing', 'a', 'an', 'the', 'and', 'but', 'if', 'or', 'because', 'as', 'until', 'while', 'of', 'at', 'by', 'for', 'with', 'about', 'against', 'between', 'into', 'through', 'during', 'before', 'after', 'above', 'below', 'to', 'from', 'up', 'down', 'in', 'out', 'on', 'off', 'over', 'under', 'again', 'further', 'then', 'once', 'here', 'there', 'when', 'where', 'why', 'how', 'all', 'any', 'both', 'each', 'few', 'more', 'most', 'other', 'some', 'such', 'no', 'nor', 'not', 'only', 'own', 'same', 'so', 'than', 'too', 'very', 's', 't', 'can', 'will', 'just', 'don', \"don't\", 'should', \"should've\", 'now', 'd', 'll', 'm', 'o', 're', 've', 'y', 'ain', 'aren', \"aren't\", 'couldn', \"couldn't\", 'didn', \"didn't\", 'doesn', \"doesn't\", 'hadn', \"hadn't\", 'hasn', \"hasn't\", 'haven', \"haven't\", 'isn', \"isn't\", 'ma', 'mightn', \"mightn't\", 'mustn', \"mustn't\", 'needn', \"needn't\", 'shan', \"shan't\", 'shouldn', \"shouldn't\", 'wasn', \"wasn't\", 'weren', \"weren't\", 'won', \"won't\", 'wouldn', \"wouldn't\"]\n"
     ]
    }
   ],
   "source": [
    "print(stopwords.words('english'))"
   ]
  },
  {
   "cell_type": "code",
   "execution_count": 6,
   "id": "aba5513b-8690-42da-927f-7e286f1defe5",
   "metadata": {},
   "outputs": [],
   "source": [
    "twitter_data = pd.read_csv('training.1600000.processed.noemoticon.csv', encoding = 'ISO-8859-1')"
   ]
  },
  {
   "cell_type": "code",
   "execution_count": 7,
   "id": "d5f7c3f6-2d4b-49d1-bf32-0558c6b11e0a",
   "metadata": {},
   "outputs": [
    {
     "data": {
      "text/plain": [
       "(1599999, 6)"
      ]
     },
     "execution_count": 7,
     "metadata": {},
     "output_type": "execute_result"
    }
   ],
   "source": [
    "twitter_data.shape"
   ]
  },
  {
   "cell_type": "code",
   "execution_count": 8,
   "id": "bcca3e72-5ff7-43eb-abc6-433dc0355b5d",
   "metadata": {},
   "outputs": [
    {
     "data": {
      "text/html": [
       "<div>\n",
       "<style scoped>\n",
       "    .dataframe tbody tr th:only-of-type {\n",
       "        vertical-align: middle;\n",
       "    }\n",
       "\n",
       "    .dataframe tbody tr th {\n",
       "        vertical-align: top;\n",
       "    }\n",
       "\n",
       "    .dataframe thead th {\n",
       "        text-align: right;\n",
       "    }\n",
       "</style>\n",
       "<table border=\"1\" class=\"dataframe\">\n",
       "  <thead>\n",
       "    <tr style=\"text-align: right;\">\n",
       "      <th></th>\n",
       "      <th>0</th>\n",
       "      <th>1467810369</th>\n",
       "      <th>Mon Apr 06 22:19:45 PDT 2009</th>\n",
       "      <th>NO_QUERY</th>\n",
       "      <th>_TheSpecialOne_</th>\n",
       "      <th>@switchfoot http://twitpic.com/2y1zl - Awww, that's a bummer.  You shoulda got David Carr of Third Day to do it. ;D</th>\n",
       "    </tr>\n",
       "  </thead>\n",
       "  <tbody>\n",
       "    <tr>\n",
       "      <th>0</th>\n",
       "      <td>0</td>\n",
       "      <td>1467810672</td>\n",
       "      <td>Mon Apr 06 22:19:49 PDT 2009</td>\n",
       "      <td>NO_QUERY</td>\n",
       "      <td>scotthamilton</td>\n",
       "      <td>is upset that he can't update his Facebook by ...</td>\n",
       "    </tr>\n",
       "    <tr>\n",
       "      <th>1</th>\n",
       "      <td>0</td>\n",
       "      <td>1467810917</td>\n",
       "      <td>Mon Apr 06 22:19:53 PDT 2009</td>\n",
       "      <td>NO_QUERY</td>\n",
       "      <td>mattycus</td>\n",
       "      <td>@Kenichan I dived many times for the ball. Man...</td>\n",
       "    </tr>\n",
       "    <tr>\n",
       "      <th>2</th>\n",
       "      <td>0</td>\n",
       "      <td>1467811184</td>\n",
       "      <td>Mon Apr 06 22:19:57 PDT 2009</td>\n",
       "      <td>NO_QUERY</td>\n",
       "      <td>ElleCTF</td>\n",
       "      <td>my whole body feels itchy and like its on fire</td>\n",
       "    </tr>\n",
       "  </tbody>\n",
       "</table>\n",
       "</div>"
      ],
      "text/plain": [
       "   0  1467810369  Mon Apr 06 22:19:45 PDT 2009  NO_QUERY _TheSpecialOne_  \\\n",
       "0  0  1467810672  Mon Apr 06 22:19:49 PDT 2009  NO_QUERY   scotthamilton   \n",
       "1  0  1467810917  Mon Apr 06 22:19:53 PDT 2009  NO_QUERY        mattycus   \n",
       "2  0  1467811184  Mon Apr 06 22:19:57 PDT 2009  NO_QUERY         ElleCTF   \n",
       "\n",
       "  @switchfoot http://twitpic.com/2y1zl - Awww, that's a bummer.  You shoulda got David Carr of Third Day to do it. ;D  \n",
       "0  is upset that he can't update his Facebook by ...                                                                   \n",
       "1  @Kenichan I dived many times for the ball. Man...                                                                   \n",
       "2    my whole body feels itchy and like its on fire                                                                    "
      ]
     },
     "execution_count": 8,
     "metadata": {},
     "output_type": "execute_result"
    }
   ],
   "source": [
    "twitter_data.head(3)"
   ]
  },
  {
   "cell_type": "code",
   "execution_count": 9,
   "id": "e6262abf-e344-4ae1-bfa9-319e228d3ada",
   "metadata": {},
   "outputs": [],
   "source": [
    "column_names = ['target', 'id', 'date', 'flag', 'user', 'text']\n",
    "twitter_data = pd.read_csv('training.1600000.processed.noemoticon.csv', names= column_names, encoding = 'ISO-8859-1')"
   ]
  },
  {
   "cell_type": "code",
   "execution_count": 10,
   "id": "ce0ffe48-c1f4-434f-999b-0567d3268e69",
   "metadata": {},
   "outputs": [
    {
     "data": {
      "text/html": [
       "<div>\n",
       "<style scoped>\n",
       "    .dataframe tbody tr th:only-of-type {\n",
       "        vertical-align: middle;\n",
       "    }\n",
       "\n",
       "    .dataframe tbody tr th {\n",
       "        vertical-align: top;\n",
       "    }\n",
       "\n",
       "    .dataframe thead th {\n",
       "        text-align: right;\n",
       "    }\n",
       "</style>\n",
       "<table border=\"1\" class=\"dataframe\">\n",
       "  <thead>\n",
       "    <tr style=\"text-align: right;\">\n",
       "      <th></th>\n",
       "      <th>target</th>\n",
       "      <th>id</th>\n",
       "      <th>date</th>\n",
       "      <th>flag</th>\n",
       "      <th>user</th>\n",
       "      <th>text</th>\n",
       "    </tr>\n",
       "  </thead>\n",
       "  <tbody>\n",
       "    <tr>\n",
       "      <th>0</th>\n",
       "      <td>0</td>\n",
       "      <td>1467810369</td>\n",
       "      <td>Mon Apr 06 22:19:45 PDT 2009</td>\n",
       "      <td>NO_QUERY</td>\n",
       "      <td>_TheSpecialOne_</td>\n",
       "      <td>@switchfoot http://twitpic.com/2y1zl - Awww, t...</td>\n",
       "    </tr>\n",
       "    <tr>\n",
       "      <th>1</th>\n",
       "      <td>0</td>\n",
       "      <td>1467810672</td>\n",
       "      <td>Mon Apr 06 22:19:49 PDT 2009</td>\n",
       "      <td>NO_QUERY</td>\n",
       "      <td>scotthamilton</td>\n",
       "      <td>is upset that he can't update his Facebook by ...</td>\n",
       "    </tr>\n",
       "    <tr>\n",
       "      <th>2</th>\n",
       "      <td>0</td>\n",
       "      <td>1467810917</td>\n",
       "      <td>Mon Apr 06 22:19:53 PDT 2009</td>\n",
       "      <td>NO_QUERY</td>\n",
       "      <td>mattycus</td>\n",
       "      <td>@Kenichan I dived many times for the ball. Man...</td>\n",
       "    </tr>\n",
       "  </tbody>\n",
       "</table>\n",
       "</div>"
      ],
      "text/plain": [
       "   target          id                          date      flag  \\\n",
       "0       0  1467810369  Mon Apr 06 22:19:45 PDT 2009  NO_QUERY   \n",
       "1       0  1467810672  Mon Apr 06 22:19:49 PDT 2009  NO_QUERY   \n",
       "2       0  1467810917  Mon Apr 06 22:19:53 PDT 2009  NO_QUERY   \n",
       "\n",
       "              user                                               text  \n",
       "0  _TheSpecialOne_  @switchfoot http://twitpic.com/2y1zl - Awww, t...  \n",
       "1    scotthamilton  is upset that he can't update his Facebook by ...  \n",
       "2         mattycus  @Kenichan I dived many times for the ball. Man...  "
      ]
     },
     "execution_count": 10,
     "metadata": {},
     "output_type": "execute_result"
    }
   ],
   "source": [
    "twitter_data.head(3)"
   ]
  },
  {
   "cell_type": "code",
   "execution_count": 11,
   "id": "5ebb69c0-a694-41bd-89c9-e82677012d66",
   "metadata": {},
   "outputs": [
    {
     "data": {
      "text/plain": [
       "target    0\n",
       "id        0\n",
       "date      0\n",
       "flag      0\n",
       "user      0\n",
       "text      0\n",
       "dtype: int64"
      ]
     },
     "execution_count": 11,
     "metadata": {},
     "output_type": "execute_result"
    }
   ],
   "source": [
    "twitter_data.isnull().sum()"
   ]
  },
  {
   "cell_type": "code",
   "execution_count": 12,
   "id": "5ffb86b1-83b1-4f4a-b0b0-b55530ac951e",
   "metadata": {},
   "outputs": [
    {
     "data": {
      "text/plain": [
       "target\n",
       "0    800000\n",
       "4    800000\n",
       "Name: count, dtype: int64"
      ]
     },
     "execution_count": 12,
     "metadata": {},
     "output_type": "execute_result"
    }
   ],
   "source": [
    "twitter_data['target'].value_counts()"
   ]
  },
  {
   "cell_type": "code",
   "execution_count": 13,
   "id": "28607342-eff1-4972-8999-609a57a6f88c",
   "metadata": {},
   "outputs": [
    {
     "data": {
      "text/plain": [
       "target\n",
       "0    800000\n",
       "1    800000\n",
       "Name: count, dtype: int64"
      ]
     },
     "execution_count": 13,
     "metadata": {},
     "output_type": "execute_result"
    }
   ],
   "source": [
    "#Converting 4 to 1. This implies negative is 0, positive is 1\n",
    "twitter_data.replace({'target':{4:1}}, inplace = True)\n",
    "twitter_data['target'].value_counts()"
   ]
  },
  {
   "cell_type": "code",
   "execution_count": 14,
   "id": "be40cbec-3da1-4b5f-9d98-8b52694b775f",
   "metadata": {},
   "outputs": [],
   "source": [
    "port_stem = PorterStemmer()"
   ]
  },
  {
   "cell_type": "code",
   "execution_count": 15,
   "id": "fac1a492-e6d4-4355-b0b2-d91d96a1cce7",
   "metadata": {},
   "outputs": [],
   "source": [
    "def stemming(content):\n",
    "  stemmed_content = re.sub('[^a-zA-Z]',' ',content) #remove everything not aplhabets and spaces\n",
    "  stemmed_content = stemmed_content.lower() #convert to lower\n",
    "  stemmed_content = stemmed_content.split() #split them and load to list\n",
    "  stemmed_content = [port_stem.stem(word)for word in stemmed_content if not word in stopwords.words('english')] #check if the words are in stopped words(ignore)\n",
    "  stemmed_content = ' '.join(stemmed_content) #join the words of tweet together\n",
    "  return stemmed_content"
   ]
  },
  {
   "cell_type": "code",
   "execution_count": 16,
   "id": "63c77ffe",
   "metadata": {},
   "outputs": [],
   "source": [
    "twitter_data['stemmed_content']= twitter_data['text'].apply(stemming)"
   ]
  },
  {
   "cell_type": "code",
   "execution_count": 17,
   "id": "dffb9ce7-d2c7-45eb-9df3-7e128410736f",
   "metadata": {},
   "outputs": [
    {
     "data": {
      "text/html": [
       "<div>\n",
       "<style scoped>\n",
       "    .dataframe tbody tr th:only-of-type {\n",
       "        vertical-align: middle;\n",
       "    }\n",
       "\n",
       "    .dataframe tbody tr th {\n",
       "        vertical-align: top;\n",
       "    }\n",
       "\n",
       "    .dataframe thead th {\n",
       "        text-align: right;\n",
       "    }\n",
       "</style>\n",
       "<table border=\"1\" class=\"dataframe\">\n",
       "  <thead>\n",
       "    <tr style=\"text-align: right;\">\n",
       "      <th></th>\n",
       "      <th>target</th>\n",
       "      <th>id</th>\n",
       "      <th>date</th>\n",
       "      <th>flag</th>\n",
       "      <th>user</th>\n",
       "      <th>text</th>\n",
       "      <th>stemmed_content</th>\n",
       "    </tr>\n",
       "  </thead>\n",
       "  <tbody>\n",
       "    <tr>\n",
       "      <th>0</th>\n",
       "      <td>0</td>\n",
       "      <td>1467810369</td>\n",
       "      <td>Mon Apr 06 22:19:45 PDT 2009</td>\n",
       "      <td>NO_QUERY</td>\n",
       "      <td>_TheSpecialOne_</td>\n",
       "      <td>@switchfoot http://twitpic.com/2y1zl - Awww, t...</td>\n",
       "      <td>switchfoot http twitpic com zl awww bummer sho...</td>\n",
       "    </tr>\n",
       "    <tr>\n",
       "      <th>1</th>\n",
       "      <td>0</td>\n",
       "      <td>1467810672</td>\n",
       "      <td>Mon Apr 06 22:19:49 PDT 2009</td>\n",
       "      <td>NO_QUERY</td>\n",
       "      <td>scotthamilton</td>\n",
       "      <td>is upset that he can't update his Facebook by ...</td>\n",
       "      <td>upset updat facebook text might cri result sch...</td>\n",
       "    </tr>\n",
       "    <tr>\n",
       "      <th>2</th>\n",
       "      <td>0</td>\n",
       "      <td>1467810917</td>\n",
       "      <td>Mon Apr 06 22:19:53 PDT 2009</td>\n",
       "      <td>NO_QUERY</td>\n",
       "      <td>mattycus</td>\n",
       "      <td>@Kenichan I dived many times for the ball. Man...</td>\n",
       "      <td>kenichan dive mani time ball manag save rest g...</td>\n",
       "    </tr>\n",
       "  </tbody>\n",
       "</table>\n",
       "</div>"
      ],
      "text/plain": [
       "   target          id                          date      flag  \\\n",
       "0       0  1467810369  Mon Apr 06 22:19:45 PDT 2009  NO_QUERY   \n",
       "1       0  1467810672  Mon Apr 06 22:19:49 PDT 2009  NO_QUERY   \n",
       "2       0  1467810917  Mon Apr 06 22:19:53 PDT 2009  NO_QUERY   \n",
       "\n",
       "              user                                               text  \\\n",
       "0  _TheSpecialOne_  @switchfoot http://twitpic.com/2y1zl - Awww, t...   \n",
       "1    scotthamilton  is upset that he can't update his Facebook by ...   \n",
       "2         mattycus  @Kenichan I dived many times for the ball. Man...   \n",
       "\n",
       "                                     stemmed_content  \n",
       "0  switchfoot http twitpic com zl awww bummer sho...  \n",
       "1  upset updat facebook text might cri result sch...  \n",
       "2  kenichan dive mani time ball manag save rest g...  "
      ]
     },
     "execution_count": 17,
     "metadata": {},
     "output_type": "execute_result"
    }
   ],
   "source": [
    "twitter_data.head(3)"
   ]
  },
  {
   "cell_type": "code",
   "execution_count": 18,
   "id": "24f15cf6-8e3e-4f8c-bec4-6d2230a67a2c",
   "metadata": {},
   "outputs": [],
   "source": [
    "#Separate the data from the labels.\n",
    "X = twitter_data['stemmed_content'].values\n",
    "Y = twitter_data['target'].values"
   ]
  },
  {
   "cell_type": "code",
   "execution_count": 19,
   "id": "c84a1245-8b4f-404a-8a1b-4a0cadb79d30",
   "metadata": {},
   "outputs": [],
   "source": [
    "#Split to Training data and Test data\n",
    "X_train, X_test, Y_train, Y_test = train_test_split(X, Y, test_size = 0.2, stratify = Y, random_state = 2)"
   ]
  },
  {
   "cell_type": "code",
   "execution_count": 20,
   "id": "ef8eebba-a232-4901-b74c-f5d613828fd2",
   "metadata": {},
   "outputs": [
    {
     "name": "stdout",
     "output_type": "stream",
     "text": [
      "(1600000,) (1280000,) (320000,)\n",
      "(1600000,) (1280000,) (320000,)\n"
     ]
    }
   ],
   "source": [
    "print(X.shape, X_train.shape, X_test.shape)\n",
    "print(Y.shape, Y_train.shape, Y_test.shape)"
   ]
  },
  {
   "cell_type": "code",
   "execution_count": 21,
   "id": "fb80fc11-71c2-4fcf-9262-e8b9ae1431b7",
   "metadata": {},
   "outputs": [],
   "source": [
    "#converting the textual data to numerical data\n",
    "vectorizer =  TfidfVectorizer()\n",
    "X_train = vectorizer.fit_transform(X_train)\n",
    "X_test = vectorizer.transform(X_test)"
   ]
  },
  {
   "cell_type": "code",
   "execution_count": 22,
   "id": "b050a7a8",
   "metadata": {},
   "outputs": [
    {
     "name": "stdout",
     "output_type": "stream",
     "text": [
      "  (0, 436713)\t0.27259876264838384\n",
      "  (0, 354543)\t0.3588091611460021\n",
      "  (0, 185193)\t0.5277679060576009\n",
      "  (0, 109306)\t0.3753708587402299\n",
      "  (0, 235045)\t0.41996827700291095\n",
      "  (0, 443066)\t0.4484755317023172\n",
      "  (1, 160636)\t1.0\n",
      "  (2, 109306)\t0.4591176413728317\n",
      "  (2, 124484)\t0.1892155960801415\n",
      "  (2, 407301)\t0.18709338684973031\n",
      "  (2, 129411)\t0.29074192727957143\n",
      "  (2, 406399)\t0.32105459490875526\n",
      "  (2, 433560)\t0.3296595898028565\n",
      "  (2, 77929)\t0.31284080750346344\n",
      "  (2, 443430)\t0.3348599670252845\n",
      "  (2, 266729)\t0.24123230668976975\n",
      "  (2, 409143)\t0.15169282335109835\n",
      "  (2, 178061)\t0.1619010109445149\n",
      "  (2, 150715)\t0.18803850583207948\n",
      "  (2, 132311)\t0.2028971570399794\n",
      "  (2, 288470)\t0.16786949597862733\n",
      "  (3, 406399)\t0.29029991238662284\n",
      "  (3, 158711)\t0.4456939372299574\n",
      "  (3, 151770)\t0.278559647704793\n",
      "  (3, 56476)\t0.5200465453608686\n",
      "  :\t:\n",
      "  (1279996, 318303)\t0.21254698865277744\n",
      "  (1279996, 434014)\t0.27189450523324465\n",
      "  (1279996, 390130)\t0.2206474219107611\n",
      "  (1279996, 373144)\t0.35212500999832036\n",
      "  (1279996, 238077)\t0.5249170684084672\n",
      "  (1279996, 238078)\t0.5606696159563151\n",
      "  (1279997, 5685)\t0.48650358607431304\n",
      "  (1279997, 273084)\t0.4353549002982409\n",
      "  (1279997, 112591)\t0.7574829183045267\n",
      "  (1279998, 412553)\t0.2816582375021589\n",
      "  (1279998, 93795)\t0.21717768937055476\n",
      "  (1279998, 169461)\t0.2659980990397061\n",
      "  (1279998, 124765)\t0.32241752985927996\n",
      "  (1279998, 435463)\t0.2851807874350361\n",
      "  (1279998, 153281)\t0.28378968751027456\n",
      "  (1279998, 156297)\t0.3137096161546449\n",
      "  (1279998, 162047)\t0.34691726958159064\n",
      "  (1279998, 275288)\t0.38703346602729577\n",
      "  (1279998, 385313)\t0.4103285865588191\n",
      "  (1279999, 242268)\t0.19572649660865402\n",
      "  (1279999, 31410)\t0.248792678366695\n",
      "  (1279999, 435572)\t0.31691096877786484\n",
      "  (1279999, 433612)\t0.3607341026233411\n",
      "  (1279999, 135384)\t0.6130934129868719\n",
      "  (1279999, 96224)\t0.5416162421321443\n"
     ]
    }
   ],
   "source": [
    "print(X_train)"
   ]
  },
  {
   "cell_type": "code",
   "execution_count": 23,
   "id": "390edfff",
   "metadata": {},
   "outputs": [
    {
     "name": "stdout",
     "output_type": "stream",
     "text": [
      "  (0, 15110)\t0.1719352837797837\n",
      "  (0, 31168)\t0.16247724180521766\n",
      "  (0, 67828)\t0.26800375270827315\n",
      "  (0, 106069)\t0.3655545001090455\n",
      "  (0, 132364)\t0.25525488955578596\n",
      "  (0, 138164)\t0.23688292264071403\n",
      "  (0, 171378)\t0.2805816206356073\n",
      "  (0, 271016)\t0.4535662391658828\n",
      "  (0, 279082)\t0.1782518010910344\n",
      "  (0, 388348)\t0.21985076072061738\n",
      "  (0, 398906)\t0.3491043873264267\n",
      "  (0, 409143)\t0.31430470598079707\n",
      "  (0, 420984)\t0.17915624523539803\n",
      "  (1, 6463)\t0.30733520460524466\n",
      "  (1, 15110)\t0.211037449588008\n",
      "  (1, 145393)\t0.575262969264869\n",
      "  (1, 217562)\t0.40288153995289894\n",
      "  (1, 256777)\t0.28751585696559306\n",
      "  (1, 348135)\t0.4739279595416274\n",
      "  (1, 366203)\t0.24595562404108307\n",
      "  (2, 22532)\t0.3532582957477176\n",
      "  (2, 34401)\t0.37916255084357414\n",
      "  (2, 89448)\t0.36340369428387626\n",
      "  (2, 183312)\t0.5892069252021465\n",
      "  (2, 256834)\t0.2564939661498776\n",
      "  :\t:\n",
      "  (319994, 443794)\t0.2782185641032538\n",
      "  (319995, 107868)\t0.3339934973754696\n",
      "  (319995, 109379)\t0.30208964848908326\n",
      "  (319995, 155493)\t0.2770682832971668\n",
      "  (319995, 213324)\t0.2683969144317078\n",
      "  (319995, 232891)\t0.25741278545890767\n",
      "  (319995, 296662)\t0.39924856793840147\n",
      "  (319995, 315813)\t0.28482299145634127\n",
      "  (319995, 324496)\t0.3613167933647574\n",
      "  (319995, 416257)\t0.23816465111736276\n",
      "  (319995, 420984)\t0.22631428606830145\n",
      "  (319995, 444934)\t0.3211092817599261\n",
      "  (319996, 397506)\t0.9101400928717545\n",
      "  (319996, 438709)\t0.4143006291901984\n",
      "  (319997, 98792)\t0.4463892055808332\n",
      "  (319997, 169411)\t0.403381646999604\n",
      "  (319997, 261286)\t0.37323893626855326\n",
      "  (319997, 288421)\t0.48498483387153407\n",
      "  (319997, 349904)\t0.32484594100566083\n",
      "  (319997, 416695)\t0.29458327588067873\n",
      "  (319997, 444770)\t0.2668297951055569\n",
      "  (319998, 130192)\t0.6941927210956169\n",
      "  (319998, 438748)\t0.719789181620468\n",
      "  (319999, 389755)\t0.9577980203954275\n",
      "  (319999, 400636)\t0.2874420848216212\n"
     ]
    }
   ],
   "source": [
    "print(X_test)"
   ]
  },
  {
   "cell_type": "code",
   "execution_count": 24,
   "id": "b8647c1e",
   "metadata": {},
   "outputs": [
    {
     "name": "stdout",
     "output_type": "stream",
     "text": [
      "Logistic Regression accuracy score on training data: 0.79871953125\n",
      "Logistic Regression accuracy score on test data: 0.77668125\n"
     ]
    }
   ],
   "source": [
    "from sklearn.linear_model import LogisticRegression\n",
    "\n",
    "#Training the ML model based on LR\n",
    "model = LogisticRegression(max_iter=1000)\n",
    "model.fit(X_train, Y_train)\n",
    "\n",
    "#Model Evaluation\n",
    "#Accuracy score on taining data\n",
    "X_train_prediction = model.predict(X_train)\n",
    "training_data_accuracy = accuracy_score(Y_train, X_train_prediction)\n",
    "print('Logistic Regression accuracy score on training data:', training_data_accuracy)\n",
    "\n",
    "X_test_prediction = model.predict(X_test)\n",
    "test_data_accuracy = accuracy_score(Y_test, X_test_prediction)\n",
    "print('Logistic Regression accuracy score on test data:', test_data_accuracy)"
   ]
  },
  {
   "cell_type": "code",
   "execution_count": 35,
   "id": "8e26a471",
   "metadata": {},
   "outputs": [],
   "source": [
    "import pickle\n",
    "filename = 'trained_model.pkl'\n",
    "pickle.dump(model, open(filename, 'wb'))"
   ]
  },
  {
   "cell_type": "code",
   "execution_count": 28,
   "id": "d9c906f5",
   "metadata": {},
   "outputs": [
    {
     "name": "stdout",
     "output_type": "stream",
     "text": [
      "Random Forest training time: 10274.999679088593\n",
      "Random Forest prediction time: 38.40966606140137\n",
      "Random Forest Accuracy score on training data: 0.99584453125\n",
      "Random Forest Accuracy score on test data: 0.774928125\n"
     ]
    }
   ],
   "source": [
    "from sklearn.ensemble import RandomForestClassifier\n",
    "import time\n",
    "\n",
    "# Training the Random Forest model\n",
    "rf_model = RandomForestClassifier(n_estimators=100, random_state=2, n_jobs=-1)\n",
    "start_time = time.time()\n",
    "rf_model.fit(X_train, Y_train)\n",
    "training_time = time.time() - start_time\n",
    "\n",
    "start_time = time.time()\n",
    "X_test_prediction = rf_model.predict(X_test)\n",
    "prediction_time = time.time() - start_time\n",
    "\n",
    "training_data_accuracy = accuracy_score(Y_train, rf_model.predict(X_train))\n",
    "test_data_accuracy = accuracy_score(Y_test, X_test_prediction)\n",
    "\n",
    "print('Random Forest training time:', training_time)\n",
    "print('Random Forest prediction time:', prediction_time)\n",
    "print('Random Forest Accuracy score on training data:', training_data_accuracy)\n",
    "print('Random Forest Accuracy score on test data:', test_data_accuracy)\n"
   ]
  },
  {
   "cell_type": "code",
   "execution_count": 30,
   "id": "b4f93e5c",
   "metadata": {},
   "outputs": [],
   "source": [
    "import pickle\n",
    "filename = 'trained_rf_model.pkl'\n",
    "pickle.dump(rf_model, open(filename, 'wb'))"
   ]
  },
  {
   "cell_type": "code",
   "execution_count": 37,
   "id": "224f287b",
   "metadata": {},
   "outputs": [
    {
     "name": "stdout",
     "output_type": "stream",
     "text": [
      "1\n",
      "[1]\n",
      "positive tweet\n"
     ]
    }
   ],
   "source": [
    "#loading the saved model for future predictions. Example loading Logistic Regression model\n",
    "loaded_model = pickle.load(open('trained_model.pkl', 'rb'))\n",
    "X_new = X_test[200]\n",
    "print(Y_test[200])\n",
    "\n",
    "prediction = model.predict(X_new)\n",
    "print(prediction)\n",
    "\n",
    "if(prediction[0]==0):\n",
    "    print('negative tweet')\n",
    "else: \n",
    "    print('positive tweet')"
   ]
  }
 ],
 "metadata": {
  "kernelspec": {
   "display_name": "Python 3 (ipykernel)",
   "language": "python",
   "name": "python3"
  },
  "language_info": {
   "codemirror_mode": {
    "name": "ipython",
    "version": 3
   },
   "file_extension": ".py",
   "mimetype": "text/x-python",
   "name": "python",
   "nbconvert_exporter": "python",
   "pygments_lexer": "ipython3",
   "version": "3.11.0"
  }
 },
 "nbformat": 4,
 "nbformat_minor": 5
}
